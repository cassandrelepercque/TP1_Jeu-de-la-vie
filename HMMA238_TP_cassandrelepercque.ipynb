{
 "cells": [
  {
   "cell_type": "markdown",
   "metadata": {},
   "source": [
    "# HMMA238 - TP noté : Jeu de la vie\n",
    "\n",
    "*Cassandre LEPERCQUE* - 13 mars 2020"
   ]
  },
  {
   "cell_type": "code",
   "execution_count": 1,
   "metadata": {},
   "outputs": [],
   "source": [
    "import numpy as np\n",
    "import matplotlib.pyplot as plt\n",
    "from matplotlib import animation"
   ]
  },
  {
   "cell_type": "code",
   "execution_count": 2,
   "metadata": {},
   "outputs": [],
   "source": [
    "import utils"
   ]
  },
  {
   "cell_type": "markdown",
   "metadata": {},
   "source": [
    "**Question 1 :** Nous allons créer la chaîne de caractères `filename` correspondant au nom de notre fichier, de la forme suivante. "
   ]
  },
  {
   "cell_type": "code",
   "execution_count": 3,
   "metadata": {},
   "outputs": [],
   "source": [
    "filename = \"HMMA238_TP_cassandrelepercque.ipynb\""
   ]
  },
  {
   "cell_type": "markdown",
   "metadata": {},
   "source": [
    "**Question 2 :** Nous devons créer une variable `taille_str` qui compte le nombre de caractères dans la chaîne que nous venons de créer. "
   ]
  },
  {
   "cell_type": "code",
   "execution_count": 4,
   "metadata": {},
   "outputs": [
    {
     "name": "stdout",
     "output_type": "stream",
     "text": [
      "La taille de la chaine vaut : 35\n"
     ]
    }
   ],
   "source": [
    "taille_str = len(filename)\n",
    "print(\"La taille de la chaine vaut :\", taille_str)"
   ]
  },
  {
   "cell_type": "markdown",
   "metadata": {},
   "source": [
    "**Question 3 :** Nous devons créer une variable `ma_graine` qui vaut le reste de la division euclidienne de `taille_str` par 6. "
   ]
  },
  {
   "cell_type": "code",
   "execution_count": 5,
   "metadata": {},
   "outputs": [
    {
     "name": "stdout",
     "output_type": "stream",
     "text": [
      "Le reste de la division euclidienne de notre chaine vaut : 5\n"
     ]
    }
   ],
   "source": [
    "ma_graine = taille_str % 6\n",
    "print(\"Le reste de la division euclidienne de notre chaine vaut :\", ma_graine)"
   ]
  },
  {
   "cell_type": "markdown",
   "metadata": {},
   "source": [
    "### Implémentation sans `numpy`\n",
    "\n",
    "   Nous allons dans cette partie, coder les cellules vivantes par des 1 et les cellules mortes par des 0.\n"
   ]
  },
  {
   "cell_type": "markdown",
   "metadata": {},
   "source": [
    "**Question 4 :** Nous allons appliquer la fonction précédente à la liste *Z* (ci-après), et expliquer ce que représente la sortie obtenue `N=calcul_nb_voisins(Z)` (voir *utils*)."
   ]
  },
  {
   "cell_type": "markdown",
   "metadata": {},
   "source": [
    "La fonction `calcul_nb_voisins` calcule le nombre de voisins de chaque case du jeu de la vie. "
   ]
  },
  {
   "cell_type": "code",
   "execution_count": 6,
   "metadata": {},
   "outputs": [
    {
     "name": "stdout",
     "output_type": "stream",
     "text": [
      "[[0, 0, 0, 0, 0, 0], [0, 1, 3, 1, 2, 0], [0, 1, 5, 3, 3, 0], [0, 2, 3, 2, 2, 0], [0, 1, 2, 2, 1, 0], [0, 0, 0, 0, 0, 0]]\n"
     ]
    }
   ],
   "source": [
    "#Liste Z :\n",
    "Z = [[0, 0, 0, 0, 0, 0],\n",
    "     [0, 0, 0, 1, 0, 0],\n",
    "     [0, 1, 0, 1, 0, 0],\n",
    "     [0, 0, 1, 1, 0, 0],\n",
    "     [0, 0, 0, 0, 0, 0],\n",
    "     [0, 0, 0, 0, 0, 0]]\n",
    "\n",
    "def calcul_nb_voisins(Z): # calcul le nombre de voisins des cases d'un tableau\n",
    "    forme = len(Z), len(Z[0])\n",
    "    N = [[0, ] * (forme[0]) for i in range(forme[1])]\n",
    "    for x in range(1, forme[0] - 1):\n",
    "        for y in range(1, forme[1] - 1):\n",
    "            N[x][y] = Z[x-1][y-1]+Z[x][y-1]+Z[x+1][y-1] \\\n",
    "                    + Z[x-1][y]  + 0       +Z[x+1][y]  \\\n",
    "                    + Z[x-1][y+1]+Z[x][y+1]+Z[x+1][y+1]\n",
    "    return N    \n",
    "# N[x][y] compte le nombre de 1 autour de la case [x,y]\n",
    "# forme : longueur du tableau initial Z et celle du premier sous-tableau de Z -> Z[0]\n",
    "\n",
    "\n",
    "Nombre_voisins = calcul_nb_voisins(Z)\n",
    "print(Nombre_voisins)\n"
   ]
  },
  {
   "cell_type": "markdown",
   "metadata": {},
   "source": [
    "Nous obtenons, à partir d'une liste donnée, une nouvelle liste qui contient le nombre de voisins pour les différentes cases du jeu de la vie.\n",
    "\n"
   ]
  },
  {
   "cell_type": "markdown",
   "metadata": {},
   "source": [
    "Nous définissons à présent la fonction `iteration_jeu` (voir *utils*) et nous y rajoutons une *docstring* qui décrit les entrées / sorties et ce que retourne la fonction."
   ]
  },
  {
   "cell_type": "markdown",
   "metadata": {},
   "source": [
    "Cette fonction `iteration_jeu` nous dit si la case est vivante ou morte, en effet elle met soit un 0 soit un 1 dans chaque case. "
   ]
  },
  {
   "cell_type": "code",
   "execution_count": 7,
   "metadata": {},
   "outputs": [
    {
     "name": "stdout",
     "output_type": "stream",
     "text": [
      "[[0, 0, 0, 0, 0, 0], [0, 0, 1, 0, 0, 0], [0, 0, 0, 1, 1, 0], [0, 0, 1, 1, 0, 0], [0, 0, 0, 0, 0, 0], [0, 0, 0, 0, 0, 0]]\n"
     ]
    }
   ],
   "source": [
    "def iteration_jeu(Z): #dit si une case est vivante ou morte\n",
    "    forme = len(Z), len(Z[0])\n",
    "    N = calcul_nb_voisins(Z)\n",
    "    for x in range(1, forme[0]-1):\n",
    "        for y in range(1, forme[1]-1):\n",
    "            if Z[x][y] == 1 and (N[x][y] < 2 or N[x][y] > 3):\n",
    "                Z[x][y] = 0\n",
    "            elif Z[x][y] == 0 and N[x][y] == 3:\n",
    "                Z[x][y] = 1\n",
    "    return Z\n",
    "# if : règle d'etouffement et d'isolement\n",
    "#elif : règle de naissance\n",
    "# règle équilibre est automatique\n",
    "\n",
    "print(iteration_jeu(Z))"
   ]
  },
  {
   "cell_type": "markdown",
   "metadata": {},
   "source": [
    "**Question 5 :** Nous allons afficher les étapes du jeu sur 10 itérations, en utilisant une boucle `for`. Nous utliserons la fonction `subplot` de `matplotlib` pour afficher sur 2 lignes et 5 colonnes ces 10 matrices. \n",
    "\n",
    "Nous allons ensuite transformer ces listes en *array* pour pouvoir utiliser la fonction `imshow` de `matplotlib`. "
   ]
  },
  {
   "cell_type": "code",
   "execution_count": 8,
   "metadata": {},
   "outputs": [
    {
     "data": {
      "image/png": "[encoded data removed]",
      "text/plain": [
       "<Figure size 792x360 with 10 Axes>"
      ]
     },
     "metadata": {
      "needs_background": "light"
     },
     "output_type": "display_data"
    }
   ],
   "source": [
    "Z = [[0, 0, 0, 0, 0, 0],\n",
    "     [0, 0, 0, 1, 0, 0],\n",
    "     [0, 1, 0, 1, 0, 0],\n",
    "     [0, 0, 1, 1, 0, 0],\n",
    "     [0, 0, 0, 0, 0, 0],\n",
    "     [0, 0, 0, 0, 0, 0]]\n",
    "\n",
    "utils.afficher_iterations(iteration_jeu, Z)"
   ]
  },
  {
   "cell_type": "markdown",
   "metadata": {},
   "source": [
    "**Question 6 :** Nous remarquons qu'entre l'itération 1 et 5, le jeu de la vie avance selon les règles dites, en effet nous remarquons des naissances et des morts de cellules. "
   ]
  }
 ],
 "metadata": {
  "kernelspec": {
   "display_name": "Python 3",
   "language": "python",
   "name": "python3"
  },
  "language_info": {
   "codemirror_mode": {
    "name": "ipython",
    "version": 3
   },
   "file_extension": ".py",
   "mimetype": "text/x-python",
   "name": "python",
   "nbconvert_exporter": "python",
   "pygments_lexer": "ipython3",
   "version": "3.7.4"
  }
 },
 "nbformat": 4,
 "nbformat_minor": 2
}
