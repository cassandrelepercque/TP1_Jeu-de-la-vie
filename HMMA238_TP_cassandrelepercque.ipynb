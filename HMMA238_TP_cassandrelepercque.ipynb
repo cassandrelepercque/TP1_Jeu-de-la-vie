{
 "cells": [
  {
   "cell_type": "markdown",
   "metadata": {},
   "source": [
    "# HMMA238 - TP noté : Jeu de la vie\n",
    "\n",
    "*Cassandre LEPERCQUE*"
   ]
  },
  {
   "cell_type": "code",
   "execution_count": 4,
   "metadata": {},
   "outputs": [],
   "source": [
    "import numpy as np\n",
    "import matplotlib.pyplot as plt\n",
    "#import utils\n",
    "from matplotlib import animation"
   ]
  },
  {
   "cell_type": "markdown",
   "metadata": {},
   "source": [
    "**Question 1 :** Nous allons créer la chaîne de caractères `filename` correspondant au nom de notre fichier, de la forme suivante. "
   ]
  },
  {
   "cell_type": "code",
   "execution_count": 5,
   "metadata": {},
   "outputs": [],
   "source": [
    "filename = \"HMMA238_TP_cassandrelepercque.ipynb\""
   ]
  },
  {
   "cell_type": "markdown",
   "metadata": {},
   "source": [
    "**Question 2 :** Nous devons créer une variable `taille_str` qui compte le nombre de caractères dans la chaîne que nous venons de créer. "
   ]
  },
  {
   "cell_type": "code",
   "execution_count": 10,
   "metadata": {},
   "outputs": [
    {
     "name": "stdout",
     "output_type": "stream",
     "text": [
      "la taille de la chaine vaut : 35\n"
     ]
    }
   ],
   "source": [
    "taille_str = len(filename)\n",
    "print(\"La taille de la chaine vaut :\", taille_str)"
   ]
  },
  {
   "cell_type": "markdown",
   "metadata": {},
   "source": [
    "**Question 3 :** Nous devons créer une variable `ma_graine` qui vaut le reste de la division euclidienne de `taille_str` par 6. "
   ]
  },
  {
   "cell_type": "code",
   "execution_count": 12,
   "metadata": {},
   "outputs": [
    {
     "name": "stdout",
     "output_type": "stream",
     "text": [
      "Le reste de la division euclidienne de notre chaine vaut : 5\n"
     ]
    }
   ],
   "source": [
    "ma_graine = taille_str % 6\n",
    "print(\"Le reste de la division euclidienne de notre chaine vaut :\", ma_graine)"
   ]
  },
  {
   "cell_type": "markdown",
   "metadata": {},
   "source": [
    "### Implémentation sans `numpy`\n",
    "\n",
    "   Nous allons dans cette partie, coder les cellules vivantes par des 1 et les cellules mortes par des 0.\n"
   ]
  },
  {
   "cell_type": "markdown",
   "metadata": {},
   "source": [
    "**Question 4 :** Nous allons appliquer la fonction précédente à la liste *Z* (ci-après), et expliquer ce que représente la sortie obtenue `N=calcul_nb_voisins(Z)`."
   ]
  },
  {
   "cell_type": "code",
   "execution_count": 13,
   "metadata": {},
   "outputs": [],
   "source": [
    "#Liste Z :\n",
    "Z = [[0, 0, 0, 0, 0, 0],\n",
    "     [0, 0, 0, 1, 0, 0],\n",
    "     [0, 1, 0, 1, 0, 0],\n",
    "     [0, 0, 1, 1, 0, 0],\n",
    "     [0, 0, 0, 0, 0, 0],\n",
    "     [0, 0, 0, 0, 0, 0]]\n"
   ]
  }
 ],
 "metadata": {
  "kernelspec": {
   "display_name": "Python 3",
   "language": "python",
   "name": "python3"
  },
  "language_info": {
   "codemirror_mode": {
    "name": "ipython",
    "version": 3
   },
   "file_extension": ".py",
   "mimetype": "text/x-python",
   "name": "python",
   "nbconvert_exporter": "python",
   "pygments_lexer": "ipython3",
   "version": "3.7.4"
  }
 },
 "nbformat": 4,
 "nbformat_minor": 2
}
